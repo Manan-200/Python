{
 "cells": [
  {
   "cell_type": "code",
   "execution_count": 20,
   "metadata": {},
   "outputs": [
    {
     "name": "stdout",
     "output_type": "stream",
     "text": [
      "This is a test in loop\n",
      "This is a test in loop\n",
      "This is a test in loop\n",
      "This is a test in loop\n",
      "This is a test in loop\n",
      "This is a test in loop\n",
      "This is a test in loop\n",
      "This is a test in loop\n",
      "This is a test in loop\n",
      "This is a test in loop\n"
     ]
    }
   ],
   "source": [
    "for i in range(10):\n",
    "    print(\"This is a test in loop\")"
   ]
  },
  {
   "cell_type": "code",
   "execution_count": 21,
   "metadata": {},
   "outputs": [
    {
     "name": "stdout",
     "output_type": "stream",
     "text": [
      "Test not in loop\n"
     ]
    }
   ],
   "source": [
    "print(\"Test not in loop\")"
   ]
  }
 ],
 "metadata": {
  "kernelspec": {
   "display_name": "Python 3.10.5 64-bit",
   "language": "python",
   "name": "python3"
  },
  "language_info": {
   "codemirror_mode": {
    "name": "ipython",
    "version": 3
   },
   "file_extension": ".py",
   "mimetype": "text/x-python",
   "name": "python",
   "nbconvert_exporter": "python",
   "pygments_lexer": "ipython3",
   "version": "3.10.5"
  },
  "orig_nbformat": 4,
  "vscode": {
   "interpreter": {
    "hash": "4822f39caa3facc3e439c725cd4827a7d42e57f03eec1f1cd09e2c26d7621e20"
   }
  }
 },
 "nbformat": 4,
 "nbformat_minor": 2
}
